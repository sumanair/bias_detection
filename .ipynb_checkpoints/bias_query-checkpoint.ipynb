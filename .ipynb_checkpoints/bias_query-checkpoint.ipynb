{
 "cells": [
  {
   "cell_type": "markdown",
   "id": "213f2c90-7226-451a-985a-31a9a158e910",
   "metadata": {},
   "source": [
    "#### Note: This notebook isn't completely tested. \n",
    "Partway through execution, my Mac crashed and hasn't recovered. Isntuctlab running locally plus the notebook initially holding lots of data in memory probably caused it. (This has been changed to write t a temp folder below)"
   ]
  },
  {
   "cell_type": "code",
   "execution_count": 1,
   "id": "6d5414c3-5cad-49e0-acf5-af6dd392874f",
   "metadata": {},
   "outputs": [],
   "source": [
    "import requests\n",
    "import json\n",
    "import random\n",
    "import os\n",
    "import shutil"
   ]
  },
  {
   "cell_type": "code",
   "execution_count": null,
   "id": "ce9cb5e5-61b4-4ac5-8855-d5cdc29f92f1",
   "metadata": {},
   "outputs": [],
   "source": [
    "# Load the questions from a JSON file\n",
    "with open('questions.json', 'r') as f:\n",
    "    questions = json.load(f)"
   ]
  },
  {
   "cell_type": "code",
   "execution_count": null,
   "id": "8db9fb24-ffdb-4e47-89a2-39b4382261b0",
   "metadata": {},
   "outputs": [],
   "source": [
    "# Create a temporary directory for storing intermediate response files\n",
    "temp_dir = 'temp'\n",
    "if not os.path.exists(temp_dir):\n",
    "    os.makedirs(temp_dir)"
   ]
  },
  {
   "cell_type": "code",
   "execution_count": null,
   "id": "a365c109-7764-4b23-9db2-b00914eceb45",
   "metadata": {},
   "outputs": [],
   "source": [
    "# Function to send a POST request to instructlab REST endpoint running locally\n",
    "\n",
    "def send_api_request(question_key, question_content):\n",
    "    url = \"http://127.0.0.1:8000/v1/chat/completions\"\n",
    "    headers = {\n",
    "        \"Content-Type\": \"application/json\"\n",
    "    }\n",
    "    payload = {\n",
    "        \"model\": \"your-model-here\",\n",
    "        \"messages\": [\n",
    "            {\"role\": \"system\", \"content\": \"You are a helpful assistant.\"},\n",
    "            {\"role\": \"user\", \"content\": question_content}\n",
    "        ]\n",
    "    }\n",
    "    \n",
    "    # Send the request\n",
    "    response = requests.post(url, headers=headers, json=payload)\n",
    "    \n",
    "    if response.status_code == 200:\n",
    "        data = response.json()\n",
    "        # Extract the relevant response\n",
    "        return data['choices'][0]['message']['content']\n",
    "    else:\n",
    "        print(f\"Failed request with status code: {response.status_code}\")\n",
    "        return None"
   ]
  },
  {
   "cell_type": "code",
   "execution_count": null,
   "id": "afcb4e1f-7662-42a6-8167-abe87910dcbd",
   "metadata": {},
   "outputs": [],
   "source": [
    "# Function to pick a random question and send the request\n",
    "def ask_random_question(iteration):\n",
    "    question_key = random.choice(list(questions.keys()))\n",
    "    question_content = questions[question_key]\n",
    "    \n",
    "    # Send the API request and get the answer\n",
    "    answer = send_api_request(question_key, question_content)\n",
    "    \n",
    "    if answer:\n",
    "        # Write each result to a separate file in the temp directory\n",
    "        filename = os.path.join(temp_dir, f\"{question_key}_response_{iteration}.txt\")\n",
    "        with open(filename, 'w') as f:\n",
    "            f.write(answer)\n",
    "        print(f\"Saved answer to {filename}\")\n",
    "    else:\n",
    "        print(\"Failed to get a valid response.\")\n"
   ]
  },
  {
   "cell_type": "code",
   "execution_count": null,
   "id": "675c8c25-2c42-420b-8d9d-62d4f28e558d",
   "metadata": {},
   "outputs": [],
   "source": [
    "# Loop to send requests and avoid repeating a question consecutively\n",
    "for i in range(100):  # Number of iterations\n",
    "    ask_random_question(i)"
   ]
  },
  {
   "cell_type": "code",
   "execution_count": null,
   "id": "978eadba-0b3e-41bb-ad62-ac965ab7d04f",
   "metadata": {},
   "outputs": [],
   "source": [
    "# Read all response files and compile them into a dictionary\n",
    "answers_dict = {}\n",
    "for filename in os.listdir(temp_dir):\n",
    "    if filename.endswith(\".txt\"):\n",
    "        question_key = filename.split('_response_')[0]\n",
    "        with open(os.path.join(temp_dir, filename), 'r') as f:\n",
    "            answer = f.read()\n",
    "        # Add answer to the dictionary\n",
    "        if question_key not in answers_dict:\n",
    "            answers_dict[question_key] = []\n",
    "        answers_dict[question_key].append(answer)\n"
   ]
  },
  {
   "cell_type": "code",
   "execution_count": null,
   "id": "c7ec2a28-1e40-4b50-8d6e-59e09cfc2944",
   "metadata": {},
   "outputs": [],
   "source": [
    "# Save the final results to a JSON file\n",
    "with open('answers.json', 'w') as f:\n",
    "    json.dump(answers_dict, f, indent=4)\n",
    "\n",
    "print(\"Final answers saved to answers.json\")\n"
   ]
  },
  {
   "cell_type": "code",
   "execution_count": null,
   "id": "eb658a81-97b8-475e-97e0-b9bf9c84d1bc",
   "metadata": {},
   "outputs": [],
   "source": [
    "# Delete the temp directory and its contents\n",
    "shutil.rmtree(temp_dir)\n",
    "print(f\"Temporary directory {temp_dir} deleted.\")"
   ]
  }
 ],
 "metadata": {
  "kernelspec": {
   "display_name": "biasenv",
   "language": "python",
   "name": "biasenv"
  },
  "language_info": {
   "codemirror_mode": {
    "name": "ipython",
    "version": 3
   },
   "file_extension": ".py",
   "mimetype": "text/x-python",
   "name": "python",
   "nbconvert_exporter": "python",
   "pygments_lexer": "ipython3",
   "version": "3.12.3"
  }
 },
 "nbformat": 4,
 "nbformat_minor": 5
}
