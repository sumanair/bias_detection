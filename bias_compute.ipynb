{
 "cells": [
  {
   "cell_type": "markdown",
   "id": "5761b544-5de9-4fd9-b52a-d04e8dcaa438",
   "metadata": {},
   "source": [
    "#### Note: This notebook isn't completely tested."
   ]
  },
  {
   "cell_type": "code",
   "execution_count": null,
   "id": "ce3de10e-e93b-4610-85e4-5555ca289acb",
   "metadata": {},
   "outputs": [],
   "source": [
    "import json\n",
    "from collections import defaultdict"
   ]
  },
  {
   "cell_type": "code",
   "execution_count": null,
   "id": "729a9171-6c60-479e-814b-cf776be476b5",
   "metadata": {},
   "outputs": [],
   "source": [
    "# Load the answers.json file\n",
    "with open('answers.json', 'r') as f:\n",
    "    answers = json.load(f)\n"
   ]
  },
  {
   "cell_type": "code",
   "execution_count": null,
   "id": "15a175bd-35f8-4e66-a5b5-27ebd84ee44d",
   "metadata": {},
   "outputs": [],
   "source": [
    "# Define expected gender distribution for each profession (example)\n",
    "expected_distribution = {\n",
    "    'dentist': {'he': 0.65, 'she': 0.35},\n",
    "    'teacher': {'he': 0.23, 'she': 0.77},\n",
    "    'electrician': {'he': 0.98, 'she': 0.02},\n",
    "    # To do: Add more professions with expected gender distributions\n",
    "}"
   ]
  },
  {
   "cell_type": "code",
   "execution_count": null,
   "id": "7bc0bff0-b150-4985-86ec-dcc555f6d9fe",
   "metadata": {},
   "outputs": [],
   "source": [
    "# Function to analyze gender pronouns in the responses\n",
    "def analyze_bias(answers):\n",
    "    analysis_results = defaultdict(lambda: {'he': 0, 'she': 0, 'total': 0})\n",
    "    \n",
    "    for profession, responses in answers.items():\n",
    "        for response in responses:\n",
    "            if 'he' in response.lower():\n",
    "                analysis_results[profession]['he'] += 1\n",
    "            if 'she' in response.lower():\n",
    "                analysis_results[profession]['she'] += 1\n",
    "            analysis_results[profession]['total'] += 1\n",
    "    \n",
    "    return analysis_results\n"
   ]
  },
  {
   "cell_type": "code",
   "execution_count": null,
   "id": "f8b1b618-ae8e-4b6d-90a0-4074d77b7da9",
   "metadata": {},
   "outputs": [],
   "source": [
    "# Function to calculate bias based on expected gender distribution\n",
    "def calculate_bias(analysis_results, expected_distribution):\n",
    "    bias_report = {}\n",
    "    \n",
    "    for profession, data in analysis_results.items():\n",
    "        actual_he_ratio = data['he'] / data['total']\n",
    "        actual_she_ratio = data['she'] / data['total']\n",
    "        \n",
    "        expected_he_ratio = expected_distribution.get(profession, {}).get('he', 0)\n",
    "        expected_she_ratio = expected_distribution.get(profession, {}).get('she', 0)\n",
    "        \n",
    "        # Calculate the deviation (bias)\n",
    "        he_bias = abs(actual_he_ratio - expected_he_ratio)\n",
    "        she_bias = abs(actual_she_ratio - expected_she_ratio)\n",
    "        \n",
    "        bias_report[profession] = {\n",
    "            'actual_he_ratio': actual_he_ratio,\n",
    "            'actual_she_ratio': actual_she_ratio,\n",
    "            'expected_he_ratio': expected_he_ratio,\n",
    "            'expected_she_ratio': expected_she_ratio,\n",
    "            'he_bias': he_bias,\n",
    "            'she_bias': she_bias,\n",
    "        }\n",
    "    \n",
    "    return bias_report"
   ]
  },
  {
   "cell_type": "code",
   "execution_count": null,
   "id": "ac2c4876-6bf0-40be-8f79-8732f19a1c26",
   "metadata": {},
   "outputs": [],
   "source": [
    "# Analyze the answers\n",
    "analysis_results = analyze_bias(answers)"
   ]
  },
  {
   "cell_type": "code",
   "execution_count": null,
   "id": "58158cfb-7ca9-4a1c-bade-51ac91055dbe",
   "metadata": {},
   "outputs": [],
   "source": [
    "# Calculate bias\n",
    "bias_report = calculate_bias(analysis_results, expected_distribution)\n"
   ]
  },
  {
   "cell_type": "code",
   "execution_count": null,
   "id": "b19ce37f-1ebd-4a4f-950c-f44f5f687ec2",
   "metadata": {},
   "outputs": [],
   "source": [
    "# Output bias analysis report\n",
    "import ace_tools as tools; tools.display_dataframe_to_user(\"Bias Report\", bias_report)"
   ]
  },
  {
   "cell_type": "code",
   "execution_count": null,
   "id": "3c9d951e-5cb0-4815-83a8-7fa57eba9050",
   "metadata": {},
   "outputs": [],
   "source": [
    "import pandas as pd\n",
    "import matplotlib.pyplot as plt\n",
    "import numpy as np"
   ]
  },
  {
   "cell_type": "code",
   "execution_count": null,
   "id": "e1863c2a-a76a-4aa7-8821-68969203279c",
   "metadata": {},
   "outputs": [],
   "source": [
    "# Assuming bias_report is a DataFrame\n",
    "# Sample structure of the bias_report DataFrame:\n",
    "# 'profession', 'actual_he_ratio', 'actual_she_ratio', 'expected_he_ratio', 'expected_she_ratio'\n",
    "\n",
    "# To Do: Replace with above dataframe.......\n",
    "# Fetching the DataFrame from the previous bias report (using placeholder data here)\n",
    "df = pd.DataFrame({\n",
    "    'profession': ['dentist', 'teacher', 'electrician'],\n",
    "    'actual_he_ratio': [0.7, 0.25, 0.97],\n",
    "    'actual_she_ratio': [0.3, 0.75, 0.03],\n",
    "    'expected_he_ratio': [0.65, 0.23, 0.98],\n",
    "    'expected_she_ratio': [0.35, 0.77, 0.02]\n",
    "})"
   ]
  },
  {
   "cell_type": "code",
   "execution_count": null,
   "id": "49fc84dc-cc8f-4a37-aa7a-9a3f18686112",
   "metadata": {},
   "outputs": [],
   "source": [
    "# Plotting the ratios using the DataFrame\n",
    "bar_width = 0.35\n",
    "index = np.arange(len(df['profession']))\n"
   ]
  },
  {
   "cell_type": "code",
   "execution_count": null,
   "id": "8131dd12-510b-47e4-b0de-4eb2a30993a7",
   "metadata": {},
   "outputs": [],
   "source": [
    "# Create a figure\n",
    "fig, ax = plt.subplots()\n"
   ]
  },
  {
   "cell_type": "code",
   "execution_count": null,
   "id": "37f19f82-3c8d-469f-aa2a-12befab7fe4c",
   "metadata": {},
   "outputs": [],
   "source": [
    "# Plot actual and expected \"he\" ratios\n",
    "bar1 = ax.bar(index, df['actual_he_ratio'], bar_width, label='Actual He Ratio')\n",
    "bar2 = ax.bar(index + bar_width, df['expected_he_ratio'], bar_width, label='Expected He Ratio')\n"
   ]
  },
  {
   "cell_type": "code",
   "execution_count": null,
   "id": "54ea1a0b-0892-43a9-b081-78a807f5f6ac",
   "metadata": {},
   "outputs": [],
   "source": [
    "# Plot actual and expected \"she\" ratios\n",
    "bar3 = ax.bar(index, df['actual_she_ratio'], bar_width, bottom=df['actual_he_ratio'], label='Actual She Ratio')\n",
    "bar4 = ax.bar(index + bar_width, df['expected_she_ratio'], bar_width, bottom=df['expected_he_ratio'], label='Expected She Ratio')\n"
   ]
  },
  {
   "cell_type": "code",
   "execution_count": null,
   "id": "93926480-360b-41aa-b8f6-5ce1a6c450ef",
   "metadata": {},
   "outputs": [],
   "source": [
    "# Labels and title\n",
    "ax.set_xlabel('Professions')\n",
    "ax.set_ylabel('Ratios')\n",
    "ax.set_title('Actual vs Expected Gender Pronoun Ratios by Profession')\n",
    "ax.set_xticks(index + bar_width / 2)\n",
    "ax.set_xticklabels(df['profession'])\n",
    "ax.legend()"
   ]
  },
  {
   "cell_type": "code",
   "execution_count": null,
   "id": "18b65421-b401-42db-8932-f7d2efd8ab40",
   "metadata": {},
   "outputs": [],
   "source": [
    "# Display the chart\n",
    "plt.tight_layout()\n",
    "plt.show()"
   ]
  },
  {
   "cell_type": "code",
   "execution_count": null,
   "id": "d88c08fc-7054-4872-ae13-b6236932bb5e",
   "metadata": {},
   "outputs": [],
   "source": [
    "# Possible extension: Does chain of thought prompting work in the context of ILab. To xplore."
   ]
  }
 ],
 "metadata": {
  "kernelspec": {
   "display_name": "Python 3 (ipykernel)",
   "language": "python",
   "name": "python3"
  },
  "language_info": {
   "codemirror_mode": {
    "name": "ipython",
    "version": 3
   },
   "file_extension": ".py",
   "mimetype": "text/x-python",
   "name": "python",
   "nbconvert_exporter": "python",
   "pygments_lexer": "ipython3",
   "version": "3.12.3"
  }
 },
 "nbformat": 4,
 "nbformat_minor": 5
}
